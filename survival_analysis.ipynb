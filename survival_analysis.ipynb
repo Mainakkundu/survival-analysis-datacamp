{
 "cells": [
  {
   "cell_type": "code",
   "execution_count": null,
   "metadata": {},
   "outputs": [],
   "source": []
  },
  {
   "cell_type": "markdown",
   "metadata": {},
   "source": [
    "In [3]:\n",
    "has_pericardial_effusion.head()\n",
    "Out[3]:\n",
    "\n",
    "    survival  observed     age  pericardialeffusion  name\n",
    "11      52.0       1.0  62.000                  1.0  name\n",
    "15      24.0       1.0  55.000                  1.0  name\n",
    "16       0.5       0.0  69.000                  1.0  name\n",
    "17       0.5       0.0  62.529                  1.0  name\n",
    "19       1.0       0.0  66.000                  1.0  name\n",
    "\n",
    "\n",
    "In [4]:\n",
    "none_pericardial_effusion.head()\n",
    "Out[4]:\n",
    "\n",
    "   survival  observed   age  pericardialeffusion  name\n",
    "0      11.0       1.0  71.0                  0.0  name\n",
    "1      19.0       1.0  72.0                  0.0  name\n",
    "2      16.0       1.0  55.0                  0.0  name\n",
    "3      57.0       1.0  60.0                  0.0  name\n",
    "4      19.0       0.0  57.0                  0.0  name"
   ]
  },
  {
   "cell_type": "code",
   "execution_count": null,
   "metadata": {},
   "outputs": [],
   "source": [
    "#packages are lifeline"
   ]
  },
  {
   "cell_type": "code",
   "execution_count": null,
   "metadata": {},
   "outputs": [],
   "source": [
    "# Instantiate Kaplan Meier object for patients with and without pericardial effusion\n",
    "kmf_has_pe = KaplanMeierFitter()\n",
    "kmf_no_pe = KaplanMeierFitter()\n",
    "\n",
    "# Fit Kaplan Meier estimators to each DataFrame\n",
    "kmf_has_pe.fit(durations=has_pericardial_effusion['survival'], \n",
    "               event_observed=has_pericardial_effusion['observed'])\n",
    "kmf_no_pe.fit(durations=none_pericardial_effusion['survival'], \n",
    "              event_observed=none_pericardial_effusion['observed'])\n",
    "\n",
    "# Print out the median survival duration of each group\n",
    "print(\"The median survival duration (months) of patients with pericardial effusion: \", kmf_has_pe.median_survival_time_)\n",
    "print(\"The median survival duration (months) of patients without pericardial effusion: \", kmf_no_pe.median_survival_time_)"
   ]
  },
  {
   "cell_type": "code",
   "execution_count": null,
   "metadata": {},
   "outputs": [],
   "source": [
    "The median survival duration (months) of patients with pericardial effusion:  27.0\n",
    "The median survival duration (months) of patients without pericardial effusion:  31.0"
   ]
  },
  {
   "cell_type": "markdown",
   "metadata": {},
   "source": [
    "#-- Now doing a Survival regression using AFT regressor \n",
    "-- WellBull is parametric way of things that is what the difference is \n",
    "-- if exp(beta-cofficint) > 1 => factor increass the survival time \n",
    "-- if exp(beta-cofficent) < 1 => factor decreases the survival time \n"
   ]
  },
  {
   "cell_type": "markdown",
   "metadata": {},
   "source": [
    "#### ------- BUSINESS INTERPRETATION ------------\n",
    "Here’s a simple interpretation of each coefficient:\n",
    "\n",
    "* Age (coef = 0.004, exp(coef) = 1.004)\n",
    "Interpretation: Each additional year of age increases the expected survival duration by 0.4%. This suggests a very slight increase in survival time with age, possibly indicating that older individuals in this study have a marginally better survival prognosis under specific conditions.\n",
    "\n",
    "* EPSS (coef = -0.022, exp(coef) = 0.978)\n",
    "Interpretation: For each one-unit increase in EPSS, the survival duration decreases by about 2.2%. A higher EPSS score, which may reflect more severe heart conditions, is associated with shorter survival times.\n",
    "* Fractional Shortening (coef = -0.120, exp(coef) = 0.887)\n",
    "Interpretation: A unit decrease in fractional shortening (indicating worse heart function) is associated with a 11.3% reduction in survival time. This is a significant impact, emphasizing the importance of heart function in survival outcomes.\n",
    "\n",
    "* LVDD (Left Ventricular Diastolic Diameter, coef = 0.066, exp(coef) = 1.068)\n",
    "Interpretation: Each unit increase in LVDD is linked to a 6.8% increase in survival time. This might suggest that patients with a larger LVDD, under certain conditions, have longer survival times, although LVDD increases are typically a concern in heart health.\n",
    "\n",
    "* Pericardial Effusion (coef = 0.026, exp(coef) = 1.026)\n",
    "Interpretation: The presence of pericardial effusion increases survival time by 2.6%. This might indicate that in the context of other controlled factors, pericardial effusion does not significantly compromise survival, or may reflect the impact of successful management strategies.\n",
    "\n",
    "* Wall Motion Index (coef = 0.131, exp(coef) = 1.140)\n",
    "Interpretation: Each unit increase in the wall motion index, which might indicate more severe cardiac impairment, is associated with a 14% increase in survival time. This counterintuitive result could suggest compensatory mechanisms or other factors at play.\n",
    "Wall Motion Score (coef = -0.010, exp(coef) = 0.990)\n",
    "Interpretation: A higher wall motion score, potentially indicating more extensive heart damage, reduces survival time by 1% per unit increase.\n",
    "\n",
    "** Intercept\n",
    "Interpretation: This is a baseline multiplier for survival times when all other covariates are zero. It sets the fundamental scale of the survival time but isn't typically used for direct interpretation.\n",
    "\n",
    "* Summary for Business:\n",
    "Heart Function Parameters: Factors directly measuring heart function (EPSS, fractional shortening, LVDD) are crucial determinants of survival. Improvements or deteriorations in these measurements have direct, significant impacts on survival probabilities.\n",
    "Age and Condition Specific Factors: Age slightly increases survival time, while specific conditions like pericardial effusion and changes in heart wall motion have nuanced impacts, which could vary depending on the patient's overall health and treatment strategies.\n",
    "Management Implications: Monitoring and improving cardiac function should be a priority in patient management strategies to enhance survival outcomes."
   ]
  },
  {
   "cell_type": "markdown",
   "metadata": {},
   "source": []
  },
  {
   "cell_type": "markdown",
   "metadata": {},
   "source": [
    "## Custom- Model"
   ]
  },
  {
   "cell_type": "markdown",
   "metadata": {},
   "source": [
    "Explore gender-LVDD interaction\n",
    "You wonder if the survival risk for heart patients with LVDD (Left Ventricular Diastolic Dysfunction) is higher or lower among female patients. A good way to analyze this is with an interaction term between gender_f (1 if the subject is female, 0 otherwise) and lvdd.\n",
    "\n",
    "You are going to fit the Weibull AFT model with gender_f*lvdd and interpret their coefficients. The DataFrame you will use is called heart_patients.\n",
    "\n",
    "The pandas and numpy packages are loaded as pd and np, the WeibullAFTFitter class has been imported for you, and a WeibullAFTFitter instance aft has been created."
   ]
  },
  {
   "cell_type": "markdown",
   "metadata": {},
   "source": []
  },
  {
   "cell_type": "code",
   "execution_count": null,
   "metadata": {},
   "outputs": [],
   "source": [
    "# Fit custom model\n",
    "aft.fit(heart_patients, \n",
    "        duration_col='survival', \n",
    "        event_col='observed',\n",
    "        formula='epss + gender_f * lvdd')\n",
    "\n",
    "# Print model summary\n",
    "aft.summary"
   ]
  },
  {
   "cell_type": "code",
   "execution_count": null,
   "metadata": {},
   "outputs": [],
   "source": [
    "<script.py> output:\n",
    "                            coef  exp(coef)  se(coef)  coef lower 95%  coef upper 95%  ...  exp(coef) upper 95%  cmp to      z          p  -log2(p)\n",
    "    param   covariate                                                                  ...                                                         \n",
    "    lambda_ Intercept      3.419     30.545     0.492           2.454           4.384  ...               80.188     0.0  6.943  3.830e-12    37.926\n",
    "            epss          -0.019      0.981     0.016          -0.052           0.013  ...                1.013     0.0 -1.184  2.364e-01     2.081\n",
    "            gender_f      -0.064      0.938     1.151          -2.319           2.191  ...                8.941     0.0 -0.056  9.554e-01     0.066\n",
    "            lvdd           0.084      1.088     0.110          -0.131           0.299  ...                1.349     0.0  0.764  4.450e-01     1.168\n",
    "            gender_f:lvdd  0.017      1.018     0.245          -0.463           0.498  ...                1.646     0.0  0.071  9.432e-01     0.084\n",
    "    rho_    Intercept      0.930      2.534     0.125           0.684           1.176  ...                3.240     0.0  7.413  1.233e-13    42.882\n",
    "    "
   ]
  },
  {
   "cell_type": "code",
   "execution_count": null,
   "metadata": {},
   "outputs": [],
   "source": [
    "## Suppose want to analyse the partial_plot function for a co-variate \n",
    "## means u can simulate the covariate different values to see the impact on survival model \n"
   ]
  },
  {
   "cell_type": "markdown",
   "metadata": {},
   "source": [
    "## Prediction on new_data \n"
   ]
  },
  {
   "cell_type": "code",
   "execution_count": null,
   "metadata": {},
   "outputs": [],
   "source": [
    "#Train_data & test data u have like same shape and u can use the same predict function to do that \n"
   ]
  },
  {
   "cell_type": "code",
   "execution_count": null,
   "metadata": {},
   "outputs": [],
   "source": [
    "# Predict median of new data\n",
    "aft_pred = aft.predict_median(prison_new)\n",
    "\n",
    "# Print average predicted time to arrest\n",
    "print(\"On average, the median number of weeks for new released convicts to be arrested is: \", np.mean(aft_pred))"
   ]
  },
  {
   "cell_type": "markdown",
   "metadata": {},
   "source": [
    "## Godness of Fit \n",
    "* Check the lowest aic score \n",
    "* check the qq_pot distrubtion as if its closer to the line , then the predictions are good  "
   ]
  },
  {
   "cell_type": "code",
   "execution_count": null,
   "metadata": {},
   "outputs": [],
   "source": [
    "# Import qq_plot\n",
    "from lifelines.plotting import qq_plot\n",
    "\n",
    "# Plot qq_plot of wb\n",
    "qq_plot(wb)\n",
    "\n",
    "# Display figure\n",
    "plt.show()"
   ]
  },
  {
   "cell_type": "code",
   "execution_count": null,
   "metadata": {},
   "outputs": [],
   "source": [
    "In [1]:\n",
    "heart_patients.head()\n",
    "Out[1]:\n",
    "\n",
    "   survival  observed\n",
    "0      11.0       1.0\n",
    "1      19.0       1.0\n",
    "2      16.0       1.0\n",
    "3      57.0       1.0\n",
    "4      19.0       0.0"
   ]
  },
  {
   "cell_type": "code",
   "execution_count": null,
   "metadata": {},
   "outputs": [],
   "source": [
    "# Instantiate each fitter\n",
    "wb = WeibullFitter()\n",
    "exp = ExponentialFitter()\n",
    "log = LogNormalFitter()\n",
    "\n",
    "# Fit to data\n",
    "for model in [wb, exp, log]:\n",
    "  model.fit(durations=heart_patients['survival'],\n",
    "            event_observed=heart_patients['observed'])\n",
    "  # Print AIC\n",
    "  print(model.__class__.__name__, model.AIC_)"
   ]
  },
  {
   "cell_type": "code",
   "execution_count": null,
   "metadata": {},
   "outputs": [],
   "source": [
    "script.py> output:\n",
    "    WeibullFitter 331.95194834891294\n",
    "    ExponentialFitter 367.02560610624914\n",
    "    LogNormalFitter 334.83975916099 "
   ]
  },
  {
   "cell_type": "markdown",
   "metadata": {},
   "source": [
    "# Cox-Ph \n"
   ]
  },
  {
   "cell_type": "code",
   "execution_count": null,
   "metadata": {},
   "outputs": [],
   "source": [
    "# Import CoxPHFitter class\n",
    "from lifelines import CoxPHFitter\n",
    "\n",
    "# Instantiate CoxPHFitter class cph\n",
    "cph = CoxPHFitter()\n",
    "\n",
    "# Fit cph to data\n",
    "cph.fit(df=prison, duration_col=\"week\", event_col=\"arrest\")\n",
    "\n",
    "# Print model summary\n",
    "print(cph.summary)"
   ]
  },
  {
   "cell_type": "code",
   "execution_count": null,
   "metadata": {},
   "outputs": [],
   "source": [
    "            coef  exp(coef)  se(coef)  coef lower 95%  coef upper 95%  ...  exp(coef) upper 95%  cmp to      z      p  -log2(p)\n",
    "covariate                                                              ...                                                     \n",
    "fin       -0.366      0.694     0.191          -0.740           0.009  ...                1.009     0.0 -1.915  0.056     4.171\n",
    "age       -0.056      0.945     0.022          -0.099          -0.013  ...                0.987     0.0 -2.573  0.010     6.634\n",
    "wexp      -0.157      0.855     0.212          -0.573           0.259  ...                1.295     0.0 -0.740  0.459     1.123\n",
    "mar       -0.471      0.624     0.380          -1.217           0.274  ...                1.315     0.0 -1.239  0.215     2.216\n",
    "paro      -0.078      0.925     0.195          -0.461           0.305  ...                1.356     0.0 -0.399  0.690     0.536\n",
    "prio       0.090      1.094     0.029           0.033           0.146  ...                1.157     0.0  3.123  0.002     9.125"
   ]
  },
  {
   "cell_type": "markdown",
   "metadata": {},
   "source": []
  },
  {
   "cell_type": "markdown",
   "metadata": {},
   "source": [
    "## Custome Model\n"
   ]
  },
  {
   "cell_type": "code",
   "execution_count": null,
   "metadata": {},
   "outputs": [],
   "source": [
    "# Instantiate CoxPHFitter class\n",
    "custom_cph = CoxPHFitter()\n",
    "\n",
    "# Fit custom model\n",
    "custom_cph.fit(df=prison, duration_col=\"week\", event_col=\"arrest\", formula=\"fin + age + prio\")\n",
    "\n",
    "# Print model summary\n",
    "print(custom_cph.summary)"
   ]
  },
  {
   "cell_type": "code",
   "execution_count": null,
   "metadata": {},
   "outputs": [],
   "source": [
    "print(custom_cph.summary)\n",
    "            coef  exp(coef)  se(coef)  coef lower 95%  coef upper 95%  ...  exp(coef) upper 95%  cmp to      z          p  -log2(p)\n",
    "covariate                                                              ...                                                         \n",
    "age       -0.067      0.935     0.021          -0.108          -0.026  ...                0.974     0.0 -3.218  1.289e-03     9.599\n",
    "fin       -0.347      0.707     0.190          -0.720           0.026  ...                1.026     0.0 -1.824  6.820e-02     3.874\n",
    "prio       0.097      1.102     0.027           0.043           0.150  ...                1.162     0.0  3.555  3.776e-04    11.371\n"
   ]
  },
  {
   "cell_type": "markdown",
   "metadata": {},
   "source": [
    "* **Hazard Ratio:** Direct interpretation from exp(coef). It tells us about the relative change in risk due to the covariate. A value less than 1 indicates a reduction in risk.\n",
    "\n",
    "\n",
    "* **Surv_ratio:** Calculated to make the impact on survival time more intuitive. It inverses the hazard ratio to express how much longer individuals can survive due to the covariate, assuming a baseline survival without the covariate."
   ]
  },
  {
   "cell_type": "markdown",
   "metadata": {},
   "source": [
    "* In Cox Ph Model if **Surv_ratio:** This column, calculated as 1 / exp(coef), provides an intuitive measure of the impact of each covariate on survival. A ratio greater than 1 suggests a protective effect (enhancing survival), while a ratio less than 1 suggests a detrimental effect (reducing survival).\n",
    "\n",
    "* **How to Interpret a Coef in COX PH**\n",
    "> Hazard Ratio (0.694): This value indicates that financial assistance is associated with a hazard that is 69.4% of the hazard for those without financial assistance. To find the percentage reduction in hazard:\n",
    "1\n",
    "−\n",
    "0.694\n",
    "=\n",
    "0.306\n",
    "1−0.694=0.306\n",
    "This result means there is a 30.6% reduction in the hazard due to financial assistance.\n",
    "\n",
    "* **How to Interpret the Survival Ratio**\n",
    "> Surv_ratio (1.441) implies that if the survival time without financial assistance is considered 100%, the survival time with financial assistance extends to 144.1% of the baseline (100%). The additional survival time can be calculated as:\n",
    "144.1\n",
    "−\n",
    "100\n",
    "=\n",
    "44.1\n",
    "%\n",
    "144.1−100=44.1%\n",
    "Thus, having financial assistance effectively increases the survival duration by 44.1% compared to not having financial assistance, assuming all other factors are held constant."
   ]
  },
  {
   "cell_type": "code",
   "execution_count": null,
   "metadata": {},
   "outputs": [],
   "source": [
    "# Instantiate CoxPHFitter class\n",
    "cph = CoxPHFitter()\n",
    "\n",
    "# Fit cph to data using all columns\n",
    "cph.fit(df=prison, duration_col=\"week\", event_col=\"arrest\")\n",
    "\n",
    "# Assign summary to summary_df\n",
    "summary_df = cph.summary\n",
    "\n",
    "# Create new column of survival time ratios\n",
    "summary_df[\"surv_ratio\"] = 1 / summary_df[\"exp(coef)\"]\n",
    "\n",
    "# Print surv_ratio for prio\n",
    "print(summary_df.loc[\"prio\", \"surv_ratio\"])"
   ]
  },
  {
   "cell_type": "code",
   "execution_count": null,
   "metadata": {},
   "outputs": [],
   "source": [
    "## PLOT THE different covariate RANGE OF VALUES ON SURVIVALFUNCTIONS \n",
    "# Plot partial effects\n",
    "cph.plot_partial_effects_on_outcome(covariates=[\"fin\", \"age\", \"wexp\", \"mar\", \"paro\", \"prio\"],\n",
    "                                   values=[[0, 35, 0, 1, 1, 3],\n",
    "                                           [1, 22, 0, 0, 0, 0]])\n",
    "\n",
    "# Show plot\n",
    "plt.show()"
   ]
  },
  {
   "cell_type": "markdown",
   "metadata": {},
   "source": []
  },
  {
   "cell_type": "markdown",
   "metadata": {},
   "source": [
    "## Check Assumption \n",
    "** Good job! Despite being a visual and seemingly relaxed check, Kaplan-Meier curves that seem parallel indicate the proportional hazards assumption is satisfied."
   ]
  },
  {
   "cell_type": "code",
   "execution_count": null,
   "metadata": {},
   "outputs": [],
   "source": [
    "# Fit to fin == 0\n",
    "kmf.fit(durations=prison[prison[\"fin\"] == 0][\"week\"], \n",
    "        event_observed=prison[prison[\"fin\"] == 0][\"arrest\"])\n",
    "\n",
    "# Plot survival curve for fin == 0\n",
    "ax = kmf.plot()\n",
    "\n",
    "# Fit to fin == 1 and plot on ax\n",
    "kmf.fit(durations=prison[prison[\"fin\"] == 1][\"week\"], \n",
    "        event_observed=prison[prison[\"fin\"] == 1][\"arrest\"])\n",
    "kmf.plot(ax=ax)\n",
    "plt.show()"
   ]
  },
  {
   "cell_type": "code",
   "execution_count": null,
   "metadata": {},
   "outputs": [],
   "source": [
    "print(cph.check_assumptions(training_df=prison, p_value_threshold=0.1))"
   ]
  },
  {
   "cell_type": "code",
   "execution_count": null,
   "metadata": {},
   "outputs": [],
   "source": [
    "# Check PH assumption\n",
    "print(cph.check_assumptions(training_df=prison, p_value_threshold=0.1))\n",
    "The ``p_value_threshold`` is set at 0.1. Even under the null hypothesis of no violations, some\n",
    "covariates will be below the threshold by chance. This is compounded when there are many covariates.\n",
    "Similarly, when there are lots of observations, even minor deviances from the proportional hazard\n",
    "assumption will be flagged.\n",
    "\n",
    "With that in mind, it's best to use a combination of statistical tests and visual tests to determine\n",
    "the most serious violations. Produce visual plots using ``check_assumptions(..., show_plots=True)``\n",
    "and looking for non-constant lines. See link [A] below for a full example.\n",
    "\n",
    "<lifelines.StatisticalResult: proportional_hazard_test>\n",
    " null_distribution = chi squared\n",
    "degrees_of_freedom = 1\n",
    "             model = <lifelines.CoxPHFitter: fitted with 432 total observations, 318 right-censored observations>\n",
    "         test_name = proportional_hazard_test\n",
    "\n",
    "---\n",
    "           test_statistic      p  -log2(p)\n",
    "age  km             11.51 <0.005     10.50\n",
    "     rank           11.93 <0.005     10.83\n",
    "fin  km              0.00   0.95      0.08\n",
    "     rank            0.00   0.96      0.06\n",
    "mar  km              0.78   0.38      1.41\n",
    "     rank            0.90   0.34      1.54\n",
    "paro km              0.16   0.69      0.54\n",
    "     rank            0.18   0.67      0.58\n",
    "prio km              0.02   0.89      0.16\n",
    "     rank            0.01   0.90      0.15\n",
    "wexp km              7.86   0.01      7.63\n",
    "     rank            7.70   0.01      7.50\n",
    "\n",
    "\n",
    "1. Variable 'age' failed the non-proportional test: p-value is 0.0006.\n",
    "\n",
    "   Advice 1: the functional form of the variable 'age' might be incorrect. That is, there may be\n",
    "non-linear terms missing. The proportional hazard test used is very sensitive to incorrect\n",
    "functional forms. See documentation in link [D] below on how to specify a functional form.\n",
    "\n",
    "   Advice 2: try binning the variable 'age' using pd.cut, and then specify it in `strata=['age',\n",
    "...]` in the call in `.fit`. See documentation in link [B] below.\n",
    "\n",
    "   Advice 3: try adding an interaction term with your time variable. See documentation in link [C]\n",
    "below.\n",
    "\n",
    "\n",
    "2. Variable 'wexp' failed the non-proportional test: p-value is 0.0050.\n",
    "\n",
    "   Advice: with so few unique values (only 2), you can include `strata=['wexp', ...]` in the call in\n",
    "`.fit`. See documentation in link [E] below.\n",
    "\n",
    "---\n",
    "[A]  https://lifelines.readthedocs.io/en/latest/jupyter_notebooks/Proportional%20hazard%20assumption.html\n",
    "[B]  https://lifelines.readthedocs.io/en/latest/jupyter_notebooks/Proportional%20hazard%20assumption.html#Bin-variable-and-stratify-on-it\n",
    "[C]  https://lifelines.readthedocs.io/en/latest/jupyter_notebooks/Proportional%20hazard%20assumption.html#Introduce-time-varying-covariates\n",
    "[D]  https://lifelines.readthedocs.io/en/latest/jupyter_notebooks/Proportional%20hazard%20assumption.html#Modify-the-functional-form\n",
    "[E]  https://lifelines.readthedocs.io/en/latest/jupyter_notebooks/Proportional%20hazard%20assumption.html#Stratification\n",
    "\n",
    "[]"
   ]
  },
  {
   "cell_type": "markdown",
   "metadata": {},
   "source": [
    "## Case Study- Employee Churn \n"
   ]
  },
  {
   "cell_type": "markdown",
   "metadata": {},
   "source": [
    "**Employee churn study**\n",
    "Acquiring new employees as replacements incurs hiring costs and training costs. You want to predict how long current employees will stay. This exercise focuses on the first steps to prepare to make predictions.\n",
    "\n",
    "You have a DataFrame called employees. It contains data about 1470 employees (churned and present) and how their survey answers. The survey is across the following dimensions:\n",
    "\n",
    "* environment_satisfaction\n",
    "* job_satisfaction\n",
    "* relationship_satisfaction\n",
    "* work_life_balance\n",
    "Additionally, years_at_company means the duration employees have worked and attrition indicates if the employee has churned (1 if churn, 0 otherwise).\n",
    "\n",
    "Sample rows are printed for you in the console. The CoxPHFitter class is imported for you from the lifelines package."
   ]
  },
  {
   "cell_type": "code",
   "execution_count": null,
   "metadata": {},
   "outputs": [],
   "source": [
    "TRAINING-DATA \n",
    "\n",
    "   attrition  years_at_company  environment_satisfaction  job_satisfaction  relationship_satisfaction  work_life_balance  distance_from_home  performance_rating  hourly_rate  stock_option_level\n",
    "0          1                 6                         2                 4                          1                  1                   1                   3           94                   0\n",
    "1          0                10                         3                 2                          4                  3                   8                   4           61                   1"
   ]
  },
  {
   "cell_type": "code",
   "execution_count": null,
   "metadata": {},
   "outputs": [],
   "source": [
    "# Instantiate a CoxPHFitter object cph\n",
    "cph = CoxPHFitter()\n",
    "\n",
    "# Fit cph on all covariates\n",
    "cph.fit(employees, duration_col='years_at_company', event_col='attrition')\n",
    "\n",
    "# Select employees that have not churned\n",
    "current_employees = employees.loc[employees['attrition'] == 0] ## \n",
    "\n",
    "# Existing durations of employees that have not churned\n",
    "current_employees_last_obs = current_employees['years_at_company']"
   ]
  },
  {
   "cell_type": "code",
   "execution_count": null,
   "metadata": {},
   "outputs": [],
   "source": [
    "\n",
    "TEST-DATA/ CURRENT-EMPLOYEE_BASE WHO ARE IN SYSTEM \n",
    "\n",
    "\n",
    "   Attrition  YearsAtCompany  EnvironmentSatisfaction  JobSatisfaction  RelationshipSatisfaction  WorkLifeBalance  DistanceFromHome  PerformanceRating  HourlyRate  StockOptionLevel\n",
    "1          0              10                        3                2                         4                3                 8                  4          61                 1\n",
    "3          0               8                        4                3                         3                3                 3                  3          56                 0\n",
    "4          0               2                        1                2                         4                3                 2                  3          40                 1\n",
    "5          0               7                        4                4                         3                2                 2                  3          79                 0\n",
    "6          0               1                        3                1                         1                2                 3                  4          81                 3"
   ]
  },
  {
   "cell_type": "code",
   "execution_count": null,
   "metadata": {},
   "outputs": [],
   "source": [
    "# Predict survival function conditional on existing durations\n",
    "cph.predict_survival_function(current_employees, \n",
    "                              conditional_after=current_employees_last_obs)"
   ]
  },
  {
   "cell_type": "code",
   "execution_count": null,
   "metadata": {},
   "outputs": [],
   "source": [
    "# Predict survival function conditional on existing durations\n",
    "cph.predict_survival_function(current_employees, \n",
    "                              conditional_after=current_employees_last_obs)\n",
    "\n",
    "# Predict median remaining times for current employees\n",
    "pred = cph.predict_median(current_employees, \n",
    "                          conditional_after=current_employees_last_obs)\n",
    "\n",
    "# Print the smallest median remaining time\n",
    "print(min(pred))"
   ]
  },
  {
   "cell_type": "code",
   "execution_count": null,
   "metadata": {},
   "outputs": [],
   "source": []
  },
  {
   "cell_type": "markdown",
   "metadata": {},
   "source": []
  }
 ],
 "metadata": {
  "language_info": {
   "name": "python"
  }
 },
 "nbformat": 4,
 "nbformat_minor": 2
}
