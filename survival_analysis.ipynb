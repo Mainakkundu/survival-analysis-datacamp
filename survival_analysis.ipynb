{
 "cells": [
  {
   "cell_type": "code",
   "execution_count": null,
   "metadata": {},
   "outputs": [],
   "source": []
  },
  {
   "cell_type": "markdown",
   "metadata": {},
   "source": [
    "In [3]:\n",
    "has_pericardial_effusion.head()\n",
    "Out[3]:\n",
    "\n",
    "    survival  observed     age  pericardialeffusion  name\n",
    "11      52.0       1.0  62.000                  1.0  name\n",
    "15      24.0       1.0  55.000                  1.0  name\n",
    "16       0.5       0.0  69.000                  1.0  name\n",
    "17       0.5       0.0  62.529                  1.0  name\n",
    "19       1.0       0.0  66.000                  1.0  name\n",
    "\n",
    "\n",
    "In [4]:\n",
    "none_pericardial_effusion.head()\n",
    "Out[4]:\n",
    "\n",
    "   survival  observed   age  pericardialeffusion  name\n",
    "0      11.0       1.0  71.0                  0.0  name\n",
    "1      19.0       1.0  72.0                  0.0  name\n",
    "2      16.0       1.0  55.0                  0.0  name\n",
    "3      57.0       1.0  60.0                  0.0  name\n",
    "4      19.0       0.0  57.0                  0.0  name"
   ]
  },
  {
   "cell_type": "code",
   "execution_count": null,
   "metadata": {},
   "outputs": [],
   "source": [
    "#packages are lifeline"
   ]
  },
  {
   "cell_type": "code",
   "execution_count": null,
   "metadata": {},
   "outputs": [],
   "source": [
    "# Instantiate Kaplan Meier object for patients with and without pericardial effusion\n",
    "kmf_has_pe = KaplanMeierFitter()\n",
    "kmf_no_pe = KaplanMeierFitter()\n",
    "\n",
    "# Fit Kaplan Meier estimators to each DataFrame\n",
    "kmf_has_pe.fit(durations=has_pericardial_effusion['survival'], \n",
    "               event_observed=has_pericardial_effusion['observed'])\n",
    "kmf_no_pe.fit(durations=none_pericardial_effusion['survival'], \n",
    "              event_observed=none_pericardial_effusion['observed'])\n",
    "\n",
    "# Print out the median survival duration of each group\n",
    "print(\"The median survival duration (months) of patients with pericardial effusion: \", kmf_has_pe.median_survival_time_)\n",
    "print(\"The median survival duration (months) of patients without pericardial effusion: \", kmf_no_pe.median_survival_time_)"
   ]
  },
  {
   "cell_type": "code",
   "execution_count": null,
   "metadata": {},
   "outputs": [],
   "source": [
    "The median survival duration (months) of patients with pericardial effusion:  27.0\n",
    "The median survival duration (months) of patients without pericardial effusion:  31.0"
   ]
  },
  {
   "cell_type": "markdown",
   "metadata": {},
   "source": [
    "#-- Now doing a Survival regression using AFT regressor \n",
    "-- WellBull is parametric way of things that is what the difference is \n",
    "-- if exp(beta-cofficint) > 1 => factor increass the survival time \n",
    "-- if exp(beta-cofficent) < 1 => factor decreases the survival time \n"
   ]
  },
  {
   "cell_type": "markdown",
   "metadata": {},
   "source": [
    "#### ------- BUSINESS INTERPRETATION ------------\n",
    "Here’s a simple interpretation of each coefficient:\n",
    "\n",
    "* Age (coef = 0.004, exp(coef) = 1.004)\n",
    "Interpretation: Each additional year of age increases the expected survival duration by 0.4%. This suggests a very slight increase in survival time with age, possibly indicating that older individuals in this study have a marginally better survival prognosis under specific conditions.\n",
    "\n",
    "* EPSS (coef = -0.022, exp(coef) = 0.978)\n",
    "Interpretation: For each one-unit increase in EPSS, the survival duration decreases by about 2.2%. A higher EPSS score, which may reflect more severe heart conditions, is associated with shorter survival times.\n",
    "* Fractional Shortening (coef = -0.120, exp(coef) = 0.887)\n",
    "Interpretation: A unit decrease in fractional shortening (indicating worse heart function) is associated with a 11.3% reduction in survival time. This is a significant impact, emphasizing the importance of heart function in survival outcomes.\n",
    "\n",
    "* LVDD (Left Ventricular Diastolic Diameter, coef = 0.066, exp(coef) = 1.068)\n",
    "Interpretation: Each unit increase in LVDD is linked to a 6.8% increase in survival time. This might suggest that patients with a larger LVDD, under certain conditions, have longer survival times, although LVDD increases are typically a concern in heart health.\n",
    "\n",
    "* Pericardial Effusion (coef = 0.026, exp(coef) = 1.026)\n",
    "Interpretation: The presence of pericardial effusion increases survival time by 2.6%. This might indicate that in the context of other controlled factors, pericardial effusion does not significantly compromise survival, or may reflect the impact of successful management strategies.\n",
    "\n",
    "* Wall Motion Index (coef = 0.131, exp(coef) = 1.140)\n",
    "Interpretation: Each unit increase in the wall motion index, which might indicate more severe cardiac impairment, is associated with a 14% increase in survival time. This counterintuitive result could suggest compensatory mechanisms or other factors at play.\n",
    "Wall Motion Score (coef = -0.010, exp(coef) = 0.990)\n",
    "Interpretation: A higher wall motion score, potentially indicating more extensive heart damage, reduces survival time by 1% per unit increase.\n",
    "\n",
    "** Intercept\n",
    "Interpretation: This is a baseline multiplier for survival times when all other covariates are zero. It sets the fundamental scale of the survival time but isn't typically used for direct interpretation.\n",
    "\n",
    "* Summary for Business:\n",
    "Heart Function Parameters: Factors directly measuring heart function (EPSS, fractional shortening, LVDD) are crucial determinants of survival. Improvements or deteriorations in these measurements have direct, significant impacts on survival probabilities.\n",
    "Age and Condition Specific Factors: Age slightly increases survival time, while specific conditions like pericardial effusion and changes in heart wall motion have nuanced impacts, which could vary depending on the patient's overall health and treatment strategies.\n",
    "Management Implications: Monitoring and improving cardiac function should be a priority in patient management strategies to enhance survival outcomes."
   ]
  },
  {
   "cell_type": "markdown",
   "metadata": {},
   "source": []
  }
 ],
 "metadata": {
  "language_info": {
   "name": "python"
  }
 },
 "nbformat": 4,
 "nbformat_minor": 2
}
