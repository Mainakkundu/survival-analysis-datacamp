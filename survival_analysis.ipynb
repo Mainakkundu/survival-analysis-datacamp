{
 "cells": [
  {
   "cell_type": "code",
   "execution_count": null,
   "metadata": {},
   "outputs": [],
   "source": []
  },
  {
   "cell_type": "markdown",
   "metadata": {},
   "source": [
    "In [3]:\n",
    "has_pericardial_effusion.head()\n",
    "Out[3]:\n",
    "\n",
    "    survival  observed     age  pericardialeffusion  name\n",
    "11      52.0       1.0  62.000                  1.0  name\n",
    "15      24.0       1.0  55.000                  1.0  name\n",
    "16       0.5       0.0  69.000                  1.0  name\n",
    "17       0.5       0.0  62.529                  1.0  name\n",
    "19       1.0       0.0  66.000                  1.0  name\n",
    "\n",
    "\n",
    "In [4]:\n",
    "none_pericardial_effusion.head()\n",
    "Out[4]:\n",
    "\n",
    "   survival  observed   age  pericardialeffusion  name\n",
    "0      11.0       1.0  71.0                  0.0  name\n",
    "1      19.0       1.0  72.0                  0.0  name\n",
    "2      16.0       1.0  55.0                  0.0  name\n",
    "3      57.0       1.0  60.0                  0.0  name\n",
    "4      19.0       0.0  57.0                  0.0  name"
   ]
  },
  {
   "cell_type": "code",
   "execution_count": null,
   "metadata": {},
   "outputs": [],
   "source": [
    "#packages are lifeline"
   ]
  },
  {
   "cell_type": "code",
   "execution_count": null,
   "metadata": {},
   "outputs": [],
   "source": [
    "# Instantiate Kaplan Meier object for patients with and without pericardial effusion\n",
    "kmf_has_pe = KaplanMeierFitter()\n",
    "kmf_no_pe = KaplanMeierFitter()\n",
    "\n",
    "# Fit Kaplan Meier estimators to each DataFrame\n",
    "kmf_has_pe.fit(durations=has_pericardial_effusion['survival'], \n",
    "               event_observed=has_pericardial_effusion['observed'])\n",
    "kmf_no_pe.fit(durations=none_pericardial_effusion['survival'], \n",
    "              event_observed=none_pericardial_effusion['observed'])\n",
    "\n",
    "# Print out the median survival duration of each group\n",
    "print(\"The median survival duration (months) of patients with pericardial effusion: \", kmf_has_pe.median_survival_time_)\n",
    "print(\"The median survival duration (months) of patients without pericardial effusion: \", kmf_no_pe.median_survival_time_)"
   ]
  },
  {
   "cell_type": "code",
   "execution_count": null,
   "metadata": {},
   "outputs": [],
   "source": [
    "The median survival duration (months) of patients with pericardial effusion:  27.0\n",
    "The median survival duration (months) of patients without pericardial effusion:  31.0"
   ]
  }
 ],
 "metadata": {
  "language_info": {
   "name": "python"
  }
 },
 "nbformat": 4,
 "nbformat_minor": 2
}
